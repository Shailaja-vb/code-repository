{
 "cells": [
  {
   "cell_type": "code",
   "execution_count": 1,
   "id": "777ff0d2-56d1-4be2-bcb3-d35236a18a36",
   "metadata": {},
   "outputs": [],
   "source": [
    "## hello"
   ]
  },
  {
   "cell_type": "code",
   "execution_count": 24,
   "id": "9529145a-5867-4b26-9de8-b95f86329a0a",
   "metadata": {},
   "outputs": [
    {
     "name": "stdout",
     "output_type": "stream",
     "text": [
      "Hello\n",
      "100\n",
      "Shylu\n"
     ]
    },
    {
     "data": {
      "text/plain": [
       "99"
      ]
     },
     "execution_count": 24,
     "metadata": {},
     "output_type": "execute_result"
    }
   ],
   "source": [
    "print(\"Hello\")\n",
    "print(100)\n",
    "'hi'\n",
    "100\n",
    "2\n",
    "3\n",
    "4\n",
    "type(2)\n",
    "3\n",
    "print(\"Shylu\")\n",
    "34\n",
    "56\n",
    "99"
   ]
  },
  {
   "cell_type": "code",
   "execution_count": 23,
   "id": "2ff268ff-f233-49bd-b7d5-1d20f83deb68",
   "metadata": {},
   "outputs": [
    {
     "data": {
      "text/plain": [
       "bool"
      ]
     },
     "execution_count": 23,
     "metadata": {},
     "output_type": "execute_result"
    }
   ],
   "source": [
    "type(45)\n",
    "type(45.55)\n",
    "type(\"QASR\")\n",
    "type(\"True\")\n",
    "type(45)\n",
    "type(True)\n",
    "\n"
   ]
  },
  {
   "cell_type": "markdown",
   "id": "03ae9f86-c27e-4917-977d-379db97e7146",
   "metadata": {},
   "source": [
    "## invalid variables Names\n",
    "2age=24\n",
    "first-name='shylu'\n",
    "@name='abc'"
   ]
  },
  {
   "cell_type": "code",
   "execution_count": 4,
   "id": "dcb39018-c678-4bc1-85a0-774c75b23140",
   "metadata": {},
   "outputs": [],
   "source": [
    "#2age=24\n",
    "#first-name='shylu'\n",
    "#@name='abc'"
   ]
  },
  {
   "cell_type": "code",
   "execution_count": 5,
   "id": "87b14091-0700-4799-a11a-e734ccffc3d8",
   "metadata": {},
   "outputs": [
    {
     "data": {
      "text/plain": [
       "False"
      ]
     },
     "execution_count": 5,
     "metadata": {},
     "output_type": "execute_result"
    }
   ],
   "source": [
    "name='shylu'\n",
    "Name='abc'\n",
    "name==Name"
   ]
  },
  {
   "cell_type": "code",
   "execution_count": 8,
   "id": "bf71f7d5-ed10-439a-aec0-16c79a7c94e0",
   "metadata": {},
   "outputs": [
    {
     "name": "stdout",
     "output_type": "stream",
     "text": [
      "<class 'str'>\n",
      "<class 'int'>\n"
     ]
    }
   ],
   "source": [
    "#type conversions\n",
    "age='25'\n",
    "print(type(age))\n",
    "age_int=int(age)\n",
    "print(type(age_int))"
   ]
  },
  {
   "cell_type": "code",
   "execution_count": 9,
   "id": "eeaa52e9-f140-4a35-b2bb-a7daaddfb542",
   "metadata": {},
   "outputs": [
    {
     "ename": "ValueError",
     "evalue": "invalid literal for int() with base 10: 'shylu'",
     "output_type": "error",
     "traceback": [
      "\u001b[1;31m---------------------------------------------------------------------------\u001b[0m",
      "\u001b[1;31mValueError\u001b[0m                                Traceback (most recent call last)",
      "Cell \u001b[1;32mIn[9], line 2\u001b[0m\n\u001b[0;32m      1\u001b[0m name\u001b[38;5;241m=\u001b[39m\u001b[38;5;124m\"\u001b[39m\u001b[38;5;124mshylu\u001b[39m\u001b[38;5;124m\"\u001b[39m\n\u001b[1;32m----> 2\u001b[0m name_int\u001b[38;5;241m=\u001b[39m\u001b[38;5;28mint\u001b[39m(name)\n\u001b[0;32m      3\u001b[0m \u001b[38;5;28mprint\u001b[39m(name)\n",
      "\u001b[1;31mValueError\u001b[0m: invalid literal for int() with base 10: 'shylu'"
     ]
    }
   ],
   "source": [
    "# \"\" completely as sentance\n",
    "name=\"shylu\"\n",
    "name_int=int(name)\n",
    "print(name)"
   ]
  },
  {
   "cell_type": "code",
   "execution_count": 10,
   "id": "a495816d-36e0-4122-b00b-04e4c32b2aaf",
   "metadata": {},
   "outputs": [
    {
     "name": "stdout",
     "output_type": "stream",
     "text": [
      "10 <class 'int'>\n",
      "shylu <class 'str'>\n",
      "4.6 <class 'float'>\n"
     ]
    }
   ],
   "source": [
    "# Dynamic Typing\n",
    "var=10\n",
    "print(var,type(var))\n",
    "var='shylu'\n",
    "print(var,type(var))\n",
    "var=4.6\n",
    "print(var,type(var))"
   ]
  },
  {
   "cell_type": "code",
   "execution_count": 13,
   "id": "7a3e4cbd-6cfb-4d9f-964d-9ec9b280f45f",
   "metadata": {},
   "outputs": [
    {
     "name": "stdin",
     "output_type": "stream",
     "text": [
      "enter age 40\n"
     ]
    },
    {
     "name": "stdout",
     "output_type": "stream",
     "text": [
      "age is 40 <class 'str'>\n"
     ]
    }
   ],
   "source": [
    "# input\n",
    "age=input('enter age')\n",
    "print('age is',age,type(age))"
   ]
  },
  {
   "cell_type": "code",
   "execution_count": 14,
   "id": "faa3ce78-3054-4247-afe4-c40c4db1113d",
   "metadata": {},
   "outputs": [
    {
     "data": {
      "text/plain": [
       "False"
      ]
     },
     "execution_count": 14,
     "metadata": {},
     "output_type": "execute_result"
    }
   ],
   "source": [
    "a=10\n",
    "b=10\n",
    "bool()"
   ]
  },
  {
   "cell_type": "code",
   "execution_count": 15,
   "id": "9babcd56-d5f5-4c4e-b290-fcceff0dfbc1",
   "metadata": {},
   "outputs": [
    {
     "data": {
      "text/plain": [
       "bool"
      ]
     },
     "execution_count": 15,
     "metadata": {},
     "output_type": "execute_result"
    }
   ],
   "source": [
    "a=10\n",
    "b=10\n",
    "#bool()\n",
    "type(a==b)"
   ]
  },
  {
   "cell_type": "code",
   "execution_count": 16,
   "id": "058855de-b141-4d4a-b7eb-9c53055550d1",
   "metadata": {},
   "outputs": [
    {
     "ename": "TypeError",
     "evalue": "can only concatenate str (not \"int\") to str",
     "output_type": "error",
     "traceback": [
      "\u001b[1;31m---------------------------------------------------------------------------\u001b[0m",
      "\u001b[1;31mTypeError\u001b[0m                                 Traceback (most recent call last)",
      "Cell \u001b[1;32mIn[16], line 1\u001b[0m\n\u001b[1;32m----> 1\u001b[0m \u001b[38;5;28mstr\u001b[39m\u001b[38;5;241m=\u001b[39m\u001b[38;5;124m'\u001b[39m\u001b[38;5;124mheelo\u001b[39m\u001b[38;5;124m'\u001b[39m\u001b[38;5;241m+\u001b[39m\u001b[38;5;241m5\u001b[39m\n\u001b[0;32m      2\u001b[0m \u001b[38;5;28mprint\u001b[39m(\u001b[38;5;28mstr\u001b[39m)\n",
      "\u001b[1;31mTypeError\u001b[0m: can only concatenate str (not \"int\") to str"
     ]
    }
   ],
   "source": [
    "str='heelo'+5\n",
    "print(str)"
   ]
  },
  {
   "cell_type": "code",
   "execution_count": 14,
   "id": "968aaee0-7204-4186-8111-65ba2a3b2bbc",
   "metadata": {},
   "outputs": [
    {
     "name": "stdin",
     "output_type": "stream",
     "text": [
      "enter year 2030\n"
     ]
    },
    {
     "name": "stdout",
     "output_type": "stream",
     "text": [
      "2030  is not leap year\n"
     ]
    }
   ],
   "source": [
    "# leap year\n",
    "year=int(input('enter year'))\n",
    "if year%4==0:\n",
    "   if year%100==0:\n",
    "     if year%400==0:\n",
    "         print(year,\" is  leap year\")\n",
    "     else:\n",
    "         print(year,\" is not leap year\")\n",
    "   else:\n",
    "       print(year,\" is leap year\")\n",
    "else:\n",
    "  print(year,\" is not leap year\")\n",
    "     "
   ]
  },
  {
   "cell_type": "code",
   "execution_count": 24,
   "id": "33451eb6-8da6-45cc-8f59-f06811dee7d9",
   "metadata": {},
   "outputs": [
    {
     "name": "stdout",
     "output_type": "stream",
     "text": [
      "3\n",
      "5\n",
      "7\n",
      "9\n",
      "11\n",
      "13\n",
      "15\n",
      "17\n",
      "19\n"
     ]
    }
   ],
   "source": [
    "# for loop\n",
    "#range(0,10)\n",
    "for i in range(1,20):\n",
    "   print(i)"
   ]
  },
  {
   "cell_type": "code",
   "execution_count": 29,
   "id": "83e20f34-7f5c-4f89-99eb-e56d8dca0772",
   "metadata": {},
   "outputs": [
    {
     "name": "stdout",
     "output_type": "stream",
     "text": [
      "2\n",
      "5\n",
      "8\n",
      "11\n",
      "14\n",
      "17\n"
     ]
    }
   ],
   "source": [
    "for i in range(2,20,3):\n",
    "   print(i)"
   ]
  },
  {
   "cell_type": "code",
   "execution_count": 31,
   "id": "4cf5fcd7-538a-4784-9c81-d37c5e5b01d4",
   "metadata": {},
   "outputs": [
    {
     "name": "stdout",
     "output_type": "stream",
     "text": [
      "20\n",
      "18\n",
      "16\n",
      "14\n",
      "12\n",
      "10\n",
      "8\n",
      "6\n"
     ]
    }
   ],
   "source": [
    "for i in range(20,5,-2):\n",
    "   print(i)"
   ]
  },
  {
   "cell_type": "code",
   "execution_count": 36,
   "id": "a7bac73c-3d74-4dac-85b5-e0009a462636",
   "metadata": {},
   "outputs": [
    {
     "name": "stdout",
     "output_type": "stream",
     "text": [
      "s\n",
      "h\n",
      "a\n",
      "i\n",
      "l\n",
      "a\n",
      "j\n",
      "a\n",
      " \n",
      "B\n",
      "o\n",
      "t\n",
      "l\n",
      "a\n"
     ]
    }
   ],
   "source": [
    "#Strings\n",
    "str=\"shailaja Botla\"\n",
    "for i in str:\n",
    "  print(i)"
   ]
  },
  {
   "cell_type": "code",
   "execution_count": 2,
   "id": "83410e18-d62d-4e51-a60e-23df8c9c65bc",
   "metadata": {},
   "outputs": [
    {
     "name": "stdout",
     "output_type": "stream",
     "text": [
      "0\n",
      "1\n",
      "2\n",
      "3\n",
      "4\n"
     ]
    }
   ],
   "source": [
    "## while loop\n",
    "## the while loop continuous executes until condition is true\n",
    "count=0\n",
    "while count<5:\n",
    "    print(count)\n",
    "    count=count+1\n",
    "    "
   ]
  },
  {
   "cell_type": "markdown",
   "id": "09789d2a-16f7-4129-88d1-85593c851351",
   "metadata": {},
   "source": [
    "## loop control Statements\n",
    "## break statements\n",
    "## The Break statement exit the loop prematurely\n"
   ]
  },
  {
   "cell_type": "code",
   "execution_count": 4,
   "id": "4e0c3a59-3f84-4a3f-a538-b8cbef8012b9",
   "metadata": {},
   "outputs": [
    {
     "name": "stdout",
     "output_type": "stream",
     "text": [
      "0\n",
      "1\n",
      "2\n",
      "3\n",
      "4\n"
     ]
    }
   ],
   "source": [
    "for i in range(10):\n",
    "  if i==5:\n",
    "      break\n",
    "  print(i)"
   ]
  },
  {
   "cell_type": "code",
   "execution_count": 8,
   "id": "5e84b07c-a170-4f7c-8e3e-96b01219a329",
   "metadata": {},
   "outputs": [
    {
     "name": "stdout",
     "output_type": "stream",
     "text": [
      "0\n",
      "2\n",
      "4\n",
      "6\n",
      "8\n"
     ]
    }
   ],
   "source": [
    "# continue statement\n",
    "for i in range(10):\n",
    "    if i%2!=0:\n",
    "       continue \n",
    "    print(i)"
   ]
  },
  {
   "cell_type": "code",
   "execution_count": 10,
   "id": "5f88e282-bd25-4351-8540-e29f2f605c66",
   "metadata": {},
   "outputs": [
    {
     "name": "stdout",
     "output_type": "stream",
     "text": [
      "0\n",
      "1\n",
      "2\n",
      "3\n",
      "4\n",
      "5\n",
      "6\n",
      "7\n",
      "8\n",
      "9\n"
     ]
    }
   ],
   "source": [
    "## PASS Statement\n",
    "## is a null operation, it does nothing\n",
    "for i in range(10):\n",
    "    if i==3:\n",
    "       pass\n",
    "    print(i)"
   ]
  },
  {
   "cell_type": "code",
   "execution_count": 11,
   "id": "61c11edc-fe1c-4360-a406-4c75561c9b0c",
   "metadata": {},
   "outputs": [
    {
     "name": "stdout",
     "output_type": "stream",
     "text": [
      "0\n",
      "2\n",
      "4\n",
      "6\n",
      "8\n"
     ]
    }
   ],
   "source": [
    "for i in range(10):\n",
    "    if i%2!=0:\n",
    "       continue \n",
    "    print(i)"
   ]
  },
  {
   "cell_type": "markdown",
   "id": "aa481625-9490-4cfc-b52e-1e1b46d7df1d",
   "metadata": {},
   "source": [
    "#nested loops"
   ]
  },
  {
   "cell_type": "code",
   "execution_count": 19,
   "id": "69144e91-392b-4198-b186-e9ba699fea01",
   "metadata": {},
   "outputs": [
    {
     "name": "stdout",
     "output_type": "stream",
     "text": [
      "i:1 and j:0\n",
      "i:2 and j:1\n",
      "i:3 and j:2\n",
      "i:4 and j:3\n",
      "i:1 and j:0\n",
      "i:2 and j:1\n",
      "i:3 and j:2\n",
      "i:4 and j:3\n",
      "i:1 and j:0\n",
      "i:2 and j:1\n",
      "i:3 and j:2\n",
      "i:4 and j:3\n"
     ]
    }
   ],
   "source": [
    "for i in range(3):\n",
    "   for j in range(4):\n",
    "       i=j+1\n",
    "       print(f\"i:{i} and j:{j}\")\n",
    "    "
   ]
  },
  {
   "cell_type": "code",
   "execution_count": 30,
   "id": "e6b3ede8-b585-438c-bf69-f4c868401163",
   "metadata": {},
   "outputs": [
    {
     "name": "stdin",
     "output_type": "stream",
     "text": [
      "enter number 12\n"
     ]
    },
    {
     "name": "stdout",
     "output_type": "stream",
     "text": [
      "sum of  {12}  natural numbers 78\n"
     ]
    }
   ],
   "source": [
    "## calculate first  N natural numbers using while loop and for loop\n",
    "n=int(input(\"enter number\"))\n",
    "sum=0\n",
    "count=1\n",
    "while count<=n:\n",
    "    sum=sum+count\n",
    "    count=count+1\n",
    "print(\"sum of \",{n},\" natural numbers\",sum)    "
   ]
  },
  {
   "cell_type": "code",
   "execution_count": 34,
   "id": "5bd72652-e060-4098-8df8-62ad15f27792",
   "metadata": {},
   "outputs": [
    {
     "name": "stdout",
     "output_type": "stream",
     "text": [
      "55\n"
     ]
    }
   ],
   "source": [
    "## for loop\n",
    "n=10\n",
    "sum=0\n",
    "for i in range(11):\n",
    "   sum=sum+i\n",
    "print(sum)"
   ]
  },
  {
   "cell_type": "code",
   "execution_count": 37,
   "id": "0e459916-5538-48d0-9ac5-6e5c5da82149",
   "metadata": {},
   "outputs": [
    {
     "name": "stdout",
     "output_type": "stream",
     "text": [
      "1\n",
      "2\n",
      "3\n",
      "5\n",
      "7\n",
      "11\n",
      "13\n",
      "17\n",
      "19\n",
      "23\n",
      "29\n",
      "31\n",
      "37\n",
      "41\n",
      "43\n",
      "47\n",
      "53\n",
      "59\n",
      "61\n",
      "67\n",
      "71\n",
      "73\n",
      "79\n",
      "83\n",
      "89\n",
      "97\n"
     ]
    }
   ],
   "source": [
    "## prime numbers between 1 to 101\n",
    "for num in range(1,101):\n",
    "    if num>=1:\n",
    "      for i in range(2,num):\n",
    "        if num%i==0:\n",
    "            break\n",
    "      else:\n",
    "            print(num)\n",
    "            "
   ]
  },
  {
   "cell_type": "code",
   "execution_count": 3,
   "id": "8056f381-3988-4a0e-b5ab-9e2a0e1f94e7",
   "metadata": {},
   "outputs": [
    {
     "name": "stdout",
     "output_type": "stream",
     "text": [
      "<class 'list'>\n"
     ]
    }
   ],
   "source": [
    "lst=[]\n",
    "print(type(lst))\n"
   ]
  },
  {
   "cell_type": "code",
   "execution_count": 6,
   "id": "934190ce-2632-4631-a18c-5e50bdbb8deb",
   "metadata": {},
   "outputs": [
    {
     "name": "stdout",
     "output_type": "stream",
     "text": [
      "['shylu', 'vijay', 1, 11, 2, 3, 4, 5, 12, 'vyshu', 'goutham']\n"
     ]
    }
   ],
   "source": [
    "lst=['shylu','vijay',1,11,2,3,4,5,12]\n",
    "lst1=['vyshu','goutham']\n",
    "lstf=lst+lst1\n",
    "print(lstf)"
   ]
  },
  {
   "cell_type": "code",
   "execution_count": 9,
   "id": "0e30d9ec-e0b3-4792-831f-b048abb761ba",
   "metadata": {},
   "outputs": [
    {
     "name": "stdout",
     "output_type": "stream",
     "text": [
      "5\n"
     ]
    }
   ],
   "source": [
    "print(lst[-2])"
   ]
  },
  {
   "cell_type": "code",
   "execution_count": null,
   "id": "f2d96a73-e29b-475b-9306-6dd4cb3a6878",
   "metadata": {},
   "outputs": [],
   "source": []
  },
  {
   "cell_type": "code",
   "execution_count": null,
   "id": "1a585fdf-3215-401e-8796-7e7963bc4558",
   "metadata": {},
   "outputs": [],
   "source": []
  },
  {
   "cell_type": "code",
   "execution_count": null,
   "id": "9c947e0a-624c-4b51-ac2c-8ae524482550",
   "metadata": {},
   "outputs": [],
   "source": []
  },
  {
   "cell_type": "code",
   "execution_count": null,
   "id": "ef041c35-9bbe-437b-a1d3-375d2d712488",
   "metadata": {},
   "outputs": [],
   "source": []
  },
  {
   "cell_type": "code",
   "execution_count": null,
   "id": "8d00bd01-94b6-43b3-a17c-d0fc125ec5d8",
   "metadata": {},
   "outputs": [],
   "source": []
  },
  {
   "cell_type": "code",
   "execution_count": null,
   "id": "1e8d5f8b-4bf2-433d-b456-296d55aae886",
   "metadata": {},
   "outputs": [],
   "source": []
  },
  {
   "cell_type": "code",
   "execution_count": null,
   "id": "7b603f37-10bd-40ae-8d63-1b52ecfa9ee7",
   "metadata": {},
   "outputs": [],
   "source": []
  },
  {
   "cell_type": "code",
   "execution_count": null,
   "id": "3c0c70db-dc16-48f0-b396-eeb05c909f3b",
   "metadata": {},
   "outputs": [],
   "source": []
  },
  {
   "cell_type": "code",
   "execution_count": null,
   "id": "5409339a-fae2-4b7b-828d-ee7263d4441f",
   "metadata": {},
   "outputs": [],
   "source": []
  },
  {
   "cell_type": "code",
   "execution_count": null,
   "id": "4cee645a-d978-4100-ae38-782ab2a53820",
   "metadata": {},
   "outputs": [],
   "source": []
  },
  {
   "cell_type": "code",
   "execution_count": 17,
   "id": "d23db9e9-ca64-486b-aa1b-9ecd60fc5590",
   "metadata": {},
   "outputs": [
    {
     "name": "stdout",
     "output_type": "stream",
     "text": [
      "heelo5\n"
     ]
    }
   ],
   "source": [
    "str='heelo'+str(5)\n",
    "print(str)\n"
   ]
  },
  {
   "cell_type": "code",
   "execution_count": 20,
   "id": "5e8f0996-6a22-423b-bc0d-5bd387928f01",
   "metadata": {},
   "outputs": [
    {
     "data": {
      "text/plain": [
       "False"
      ]
     },
     "execution_count": 20,
     "metadata": {},
     "output_type": "execute_result"
    }
   ],
   "source": [
    "a=24\n",
    "b=20\n",
    "a==b"
   ]
  },
  {
   "cell_type": "code",
   "execution_count": 21,
   "id": "297cd6a4-7a62-47c7-a6de-b40932a62860",
   "metadata": {},
   "outputs": [
    {
     "data": {
      "text/plain": [
       "True"
      ]
     },
     "execution_count": 21,
     "metadata": {},
     "output_type": "execute_result"
    }
   ],
   "source": [
    "a=24\n",
    "b=20\n",
    "a!=b\n"
   ]
  },
  {
   "cell_type": "code",
   "execution_count": 22,
   "id": "d3446403-c3ef-47ae-b142-ee0e9b9ce886",
   "metadata": {},
   "outputs": [
    {
     "data": {
      "text/plain": [
       "True"
      ]
     },
     "execution_count": 22,
     "metadata": {},
     "output_type": "execute_result"
    }
   ],
   "source": [
    "a>b\n"
   ]
  },
  {
   "cell_type": "code",
   "execution_count": 23,
   "id": "f4701764-0733-48a2-ae66-af49c465224b",
   "metadata": {},
   "outputs": [
    {
     "data": {
      "text/plain": [
       "False"
      ]
     },
     "execution_count": 23,
     "metadata": {},
     "output_type": "execute_result"
    }
   ],
   "source": [
    "a<b"
   ]
  },
  {
   "cell_type": "code",
   "execution_count": 25,
   "id": "59cdb00d-d8f1-49e0-acc0-7a47203d138b",
   "metadata": {},
   "outputs": [
    {
     "data": {
      "text/plain": [
       "True"
      ]
     },
     "execution_count": 25,
     "metadata": {},
     "output_type": "execute_result"
    }
   ],
   "source": [
    "a=10\n",
    "b=10\n",
    "a==b"
   ]
  },
  {
   "cell_type": "code",
   "execution_count": null,
   "id": "e0bcf32c-3f9d-4f20-9d08-7eeeb8f67a0c",
   "metadata": {},
   "outputs": [],
   "source": []
  },
  {
   "cell_type": "code",
   "execution_count": null,
   "id": "fb1c40fb-199e-4293-82cd-1cece64753a5",
   "metadata": {},
   "outputs": [],
   "source": []
  },
  {
   "cell_type": "code",
   "execution_count": null,
   "id": "c38f3baa-afa0-45e8-aac2-4b3f05141e99",
   "metadata": {},
   "outputs": [],
   "source": []
  },
  {
   "cell_type": "code",
   "execution_count": null,
   "id": "516ea145-244b-4bc8-aa23-97716db1966d",
   "metadata": {},
   "outputs": [],
   "source": []
  },
  {
   "cell_type": "code",
   "execution_count": null,
   "id": "fc0a388d-9e41-4293-9b32-4c1f420d4b42",
   "metadata": {},
   "outputs": [],
   "source": []
  },
  {
   "cell_type": "code",
   "execution_count": null,
   "id": "592d9351-7266-4ee5-9333-d0c8a1c491d1",
   "metadata": {},
   "outputs": [],
   "source": []
  },
  {
   "cell_type": "code",
   "execution_count": null,
   "id": "65ea751d-274d-415a-9f6c-1ebac3032361",
   "metadata": {},
   "outputs": [],
   "source": []
  },
  {
   "cell_type": "code",
   "execution_count": 19,
   "id": "7eb766c4-93c5-456e-8730-209284f7594a",
   "metadata": {},
   "outputs": [
    {
     "name": "stdout",
     "output_type": "stream",
     "text": [
      "div_val is 4.2\n",
      "flr_div_val is 4\n"
     ]
    }
   ],
   "source": [
    "a=21\n",
    "b=5\n",
    "div_val=a/b\n",
    "flr_div_val=a//b\n",
    "print('div_val is',div_val)\n",
    "print('flr_div_val is',flr_div_val)"
   ]
  },
  {
   "cell_type": "code",
   "execution_count": 25,
   "id": "ec7b15d2-fe8e-4ce3-abf2-2d143bab26fe",
   "metadata": {},
   "outputs": [
    {
     "name": "stdout",
     "output_type": "stream",
     "text": [
      "<class 'int'>\n",
      "<class 'int'> <class 'bool'> <class 'bool'> shylu 95.9\n",
      "<class 'float'>\n"
     ]
    }
   ],
   "source": [
    "print(type(23))\n",
    "print(type(23),type(True),type(False),\"shylu\",95.9)\n",
    "print(type(23.456))"
   ]
  },
  {
   "cell_type": "code",
   "execution_count": null,
   "id": "d1627185-ec06-41b2-9017-f93485603317",
   "metadata": {},
   "outputs": [],
   "source": [
    "print(\"my name is {},my number is {}, my number type is type{}\".format(\"shylu\",40,type(40)))"
   ]
  },
  {
   "cell_type": "markdown",
   "id": "db7efaf3-8426-4deb-8414-c4c47ceb0741",
   "metadata": {},
   "source": [
    "### Lists"
   ]
  },
  {
   "cell_type": "code",
   "execution_count": 35,
   "id": "d27f8fc9-cc10-4c16-82bd-d8678e26aeab",
   "metadata": {},
   "outputs": [
    {
     "name": "stdout",
     "output_type": "stream",
     "text": [
      "[1, 34.45, 'shylu,my number is 6', 23, True, 1, 2, 3, 12, 34, 5, 6, 7]\n"
     ]
    }
   ],
   "source": [
    "## LISTS\n",
    "\n",
    "my_list=[1,34.45,\"shylu,my number is {}\".format(6),23,True,1,2,3,12,34,5,6,7]\n",
    "print(my_list)"
   ]
  },
  {
   "cell_type": "code",
   "execution_count": 2,
   "id": "b5fc8113-78fc-42eb-90a4-9bb6d6256524",
   "metadata": {},
   "outputs": [
    {
     "name": "stdout",
     "output_type": "stream",
     "text": [
      "73\n"
     ]
    }
   ],
   "source": [
    "## Line continuation\n",
    "total=1+2+3+5+6+7+8+9+\\\n",
    "12+6+14\n",
    "print(total)"
   ]
  },
  {
   "cell_type": "code",
   "execution_count": 4,
   "id": "c8f4f911-c5d4-4236-8cce-a712fc0fb58e",
   "metadata": {},
   "outputs": [
    {
     "name": "stdout",
     "output_type": "stream",
     "text": [
      "44\n"
     ]
    },
    {
     "data": {
      "text/plain": [
       "int"
      ]
     },
     "execution_count": 4,
     "metadata": {},
     "output_type": "execute_result"
    }
   ],
   "source": [
    "## multiple statements in a single line\n",
    "x=12;y=32;z=x+y\n",
    "print(z)\n",
    "### Type inference\n",
    "type(z)"
   ]
  },
  {
   "cell_type": "code",
   "execution_count": 6,
   "id": "75edf7d6-507c-48cf-8e86-e66a4a3c0076",
   "metadata": {},
   "outputs": [
    {
     "name": "stdout",
     "output_type": "stream",
     "text": [
      "<class 'int'>\n",
      "<class 'str'>\n"
     ]
    }
   ],
   "source": [
    "var=10\n",
    "print(type(var))\n",
    "var='shylu'\n",
    "print(type(var))"
   ]
  },
  {
   "cell_type": "code",
   "execution_count": 11,
   "id": "44b02b01-db06-46b7-99b6-8fb116badac1",
   "metadata": {},
   "outputs": [
    {
     "name": "stdout",
     "output_type": "stream",
     "text": [
      "['grapes', 'guava']\n",
      "['apple', 'custered', 'guava', 'mango', 'pear']\n",
      "['mango']\n"
     ]
    }
   ],
   "source": [
    "list1=['apple','grapes','guava','mango','pear']\n",
    "print(list1[1:3])\n",
    "list1[1]=\"custered\"\n",
    "print(list1)\n",
    "print(list1[3:-1])"
   ]
  },
  {
   "cell_type": "code",
   "execution_count": 14,
   "id": "15ff35fb-9409-42d1-98b0-36276a097fd4",
   "metadata": {},
   "outputs": [
    {
     "data": {
      "text/plain": [
       "['apple', 'custered', 'guava', 'mango', 'pear']"
      ]
     },
     "execution_count": 14,
     "metadata": {},
     "output_type": "execute_result"
    }
   ],
   "source": [
    "list1[1]=\"custered\"\n",
    "list1"
   ]
  },
  {
   "cell_type": "markdown",
   "id": "f2fafae0-5aed-410b-801d-36c0e7a687f7",
   "metadata": {},
   "source": [
    "## list methods "
   ]
  },
  {
   "cell_type": "code",
   "execution_count": 17,
   "id": "709cdc57-52ed-4be4-98f3-1d7f7abb1882",
   "metadata": {},
   "outputs": [
    {
     "name": "stdout",
     "output_type": "stream",
     "text": [
      "['apple', 'custered', 'guava', 'mango', 'pear', 'peach', 'peach']\n"
     ]
    }
   ],
   "source": [
    "## append\n",
    "list1.append(\"peach\")\n",
    "print(list1)"
   ]
  },
  {
   "cell_type": "code",
   "execution_count": 18,
   "id": "6e9958cd-ae66-4142-9212-1864b7eb5170",
   "metadata": {},
   "outputs": [
    {
     "name": "stdout",
     "output_type": "stream",
     "text": [
      "['apple', 'custered', 'mango', 'pear', 'peach', 'peach']\n"
     ]
    }
   ],
   "source": [
    "## remove method\n",
    "list1.remove(\"guava\")\n",
    "print(list1)"
   ]
  },
  {
   "cell_type": "code",
   "execution_count": 21,
   "id": "6cb2f83e-d1fa-4b38-bdee-9a6591082ce0",
   "metadata": {},
   "outputs": [
    {
     "name": "stdout",
     "output_type": "stream",
     "text": [
      "peach\n",
      "['apple', 'custered', 'mango', 'pear']\n"
     ]
    }
   ],
   "source": [
    "## remove and return the last element\n",
    "pop_list1=list1.pop()\n",
    "print(pop_list1)\n",
    "print(list1)\n"
   ]
  },
  {
   "cell_type": "code",
   "execution_count": 25,
   "id": "a92149dc-3ff7-43ce-8a85-81c3f4cbcea4",
   "metadata": {},
   "outputs": [
    {
     "name": "stdout",
     "output_type": "stream",
     "text": [
      "2\n"
     ]
    }
   ],
   "source": [
    "index=list1.index(\"mango\")\n",
    "print(index)"
   ]
  },
  {
   "cell_type": "code",
   "execution_count": 39,
   "id": "ba213bc2-0980-4d71-8179-b16aed91558a",
   "metadata": {},
   "outputs": [
    {
     "name": "stdout",
     "output_type": "stream",
     "text": [
      "['apple', 'banana', 'banana', 'banana', 'banana', 'custered', 'custered', 'custered', 'custered', 'mango', 'pear']\n",
      "1\n"
     ]
    }
   ],
   "source": [
    "print(list1)\n",
    "#list1.insert(2,\"custered\")\n",
    "print(list1.count(\"pear\"))"
   ]
  },
  {
   "cell_type": "code",
   "execution_count": 40,
   "id": "e504a961-7b71-4922-aaf4-9ac724bd9705",
   "metadata": {},
   "outputs": [
    {
     "name": "stdout",
     "output_type": "stream",
     "text": [
      "['apple', 'banana', 'banana', 'banana', 'banana', 'custered', 'custered', 'custered', 'custered', 'mango', 'pear']\n",
      "4\n",
      "['pear', 'mango', 'custered', 'custered', 'custered', 'custered', 'banana', 'banana', 'banana', 'banana', 'apple']\n"
     ]
    }
   ],
   "source": [
    "list1.sort()\n",
    "print(list1)\n",
    "print(list1.count(\"custered\"))\n",
    "list1.reverse()\n",
    "print(list1)"
   ]
  },
  {
   "cell_type": "code",
   "execution_count": 41,
   "id": "a1f1000b-e49d-4bac-93fd-b545fae534cd",
   "metadata": {},
   "outputs": [
    {
     "name": "stdout",
     "output_type": "stream",
     "text": [
      "[1, 2, 3, 4, 5, 6, 'shylu']\n"
     ]
    }
   ],
   "source": [
    "l1_list=[1,2,3,4,5,6,\"shylu\"]\n",
    "print(l1_list)\n",
    "#l1_list.clear()"
   ]
  },
  {
   "cell_type": "code",
   "execution_count": 43,
   "id": "61fab811-4103-47bd-8b43-bbec41f12253",
   "metadata": {},
   "outputs": [
    {
     "name": "stdout",
     "output_type": "stream",
     "text": [
      "[]\n"
     ]
    }
   ],
   "source": [
    "l1_list.clear()\n",
    "print(l1_list)"
   ]
  },
  {
   "cell_type": "code",
   "execution_count": 48,
   "id": "ca35159f-e5fb-480d-9bdd-87b06f5f1a71",
   "metadata": {},
   "outputs": [
    {
     "name": "stdout",
     "output_type": "stream",
     "text": [
      "[3, 4, 12]\n",
      "[1, 2, 3, 4, 12]\n",
      "[22, 33, 32, 11, 4, 14, 16, 17]\n",
      "[1, 22, 14]\n",
      "[17, 14, 11, 33, 12, 3, 1]\n",
      "[1, 3, 12, 33, 11, 14, 17]\n",
      "[17, 16, 14, 4, 11, 32, 33, 22, 12, 4, 3, 2, 1]\n"
     ]
    }
   ],
   "source": [
    "numbers=[1,2,3,4,12,22,33,32,11,4,14,16,17]\n",
    "print(numbers[2:5])\n",
    "print(numbers[:5])\n",
    "print(numbers[5:])\n",
    "print(numbers[::5])# jumps 5 steps\n",
    "print(numbers[::-2])\n",
    "print(numbers[::2])# jumps 2 steps\n",
    "print(numbers[::-1])# print reverse"
   ]
  },
  {
   "cell_type": "code",
   "execution_count": 49,
   "id": "b439edd0-2144-4de9-9373-664cdfc4b6c7",
   "metadata": {},
   "outputs": [
    {
     "name": "stdout",
     "output_type": "stream",
     "text": [
      "1\n",
      "2\n",
      "3\n",
      "4\n",
      "12\n",
      "22\n",
      "33\n",
      "32\n",
      "11\n",
      "4\n",
      "14\n",
      "16\n",
      "17\n"
     ]
    }
   ],
   "source": [
    "for number in numbers:\n",
    "   print(number)"
   ]
  },
  {
   "cell_type": "code",
   "execution_count": 52,
   "id": "7698e8ff-96f3-47cd-9bcf-d6d409abbd5f",
   "metadata": {},
   "outputs": [
    {
     "name": "stdout",
     "output_type": "stream",
     "text": [
      "0 1\n",
      "1 2\n",
      "2 3\n",
      "3 4\n",
      "4 12\n",
      "5 22\n",
      "6 33\n",
      "7 32\n",
      "8 11\n",
      "9 4\n",
      "10 14\n",
      "11 16\n",
      "12 17\n"
     ]
    }
   ],
   "source": [
    "for index,number in enumerate(numbers):\n",
    "   print(index,number)"
   ]
  },
  {
   "cell_type": "raw",
   "id": "95905622-2cb1-469a-95c4-29c57ab6d973",
   "metadata": {},
   "source": [
    "## list comphrehesion"
   ]
  },
  {
   "cell_type": "code",
   "execution_count": 55,
   "id": "e228eb47-455f-473d-a30a-e855d193fcf5",
   "metadata": {},
   "outputs": [
    {
     "name": "stdout",
     "output_type": "stream",
     "text": [
      "0\n",
      "1\n",
      "4\n",
      "9\n",
      "16\n",
      "25\n",
      "36\n",
      "49\n",
      "64\n",
      "81\n"
     ]
    }
   ],
   "source": [
    "## list comphrehesion\n",
    "lst=[]\n",
    "for i in range(10):\n",
    "      print(i**2)\n",
    "      \n"
   ]
  },
  {
   "cell_type": "code",
   "execution_count": 64,
   "id": "5a448ba1-c6ad-4c52-b39a-77a3c9138190",
   "metadata": {},
   "outputs": [
    {
     "data": {
      "text/plain": [
       "[0, 1, 4, 9, 16, 25, 36, 49, 64, 81]"
      ]
     },
     "execution_count": 64,
     "metadata": {},
     "output_type": "execute_result"
    }
   ],
   "source": [
    "[x**2 for x in range(10)] \n"
   ]
  },
  {
   "cell_type": "raw",
   "id": "af50dbf8-0bea-4cb9-bd4d-91002c292125",
   "metadata": {},
   "source": []
  },
  {
   "cell_type": "code",
   "execution_count": 65,
   "id": "d5bd12cb-0bf2-4a8b-8b54-d354356afd6e",
   "metadata": {},
   "outputs": [
    {
     "name": "stdout",
     "output_type": "stream",
     "text": [
      "[0, 1, 4, 9, 16, 25, 36, 49, 64, 81]\n"
     ]
    }
   ],
   "source": [
    "square=[x**2 for x in range(10)]\n",
    "print(square)"
   ]
  },
  {
   "cell_type": "code",
   "execution_count": 69,
   "id": "8dc47b2e-d765-4380-b2ea-e579d4ce1dde",
   "metadata": {},
   "outputs": [
    {
     "name": "stdout",
     "output_type": "stream",
     "text": [
      "even numbers are [0, 2, 4, 6, 8, 10, 12, 14, 16, 18]\n"
     ]
    }
   ],
   "source": [
    "lst=[]\n",
    "for i in range(20):\n",
    "    if i%2==0:\n",
    "        lst.append(i)\n",
    "print(\"even numbers are\",lst)        "
   ]
  },
  {
   "cell_type": "code",
   "execution_count": 75,
   "id": "ab08384a-ca76-4870-b42f-0f114782b0bc",
   "metadata": {},
   "outputs": [
    {
     "name": "stdout",
     "output_type": "stream",
     "text": [
      "[1, 3, 5, 7, 9, 11, 13, 15, 17, 19, 21, 23, 25, 27, 29]\n"
     ]
    }
   ],
   "source": [
    "even_num=[ i for i in range(30) if i%2!=0]\n",
    "print(even_num)"
   ]
  },
  {
   "cell_type": "code",
   "execution_count": 76,
   "id": "c20f77cb-e715-4852-b695-6e31e0457841",
   "metadata": {},
   "outputs": [
    {
     "name": "stdout",
     "output_type": "stream",
     "text": [
      "[0, 2, 4, 6, 8, 10, 12, 14, 16, 18, 20, 22, 24, 26, 28]\n"
     ]
    }
   ],
   "source": [
    "even_num=[ i for i in range(30) if i%2==0]\n",
    "print(even_num)"
   ]
  },
  {
   "cell_type": "code",
   "execution_count": 77,
   "id": "2dac92f5-f9f0-405a-aa23-dacc8387d676",
   "metadata": {},
   "outputs": [
    {
     "name": "stdout",
     "output_type": "stream",
     "text": [
      "[['a', 1], ['a', 2], ['a', 3], ['a', 4], ['b', 1], ['b', 2], ['b', 3], ['b', 4], ['c', 1], ['c', 2], ['c', 3], ['c', 4], ['d', 1], ['d', 2], ['d', 3], ['d', 4]]\n"
     ]
    }
   ],
   "source": [
    "lst2=['a','b','c','d']\n",
    "lst3=[1,2,3,4]\n",
    "pair=[[i,j] for i in lst2 for j in lst3]\n",
    "print(pair)"
   ]
  },
  {
   "cell_type": "code",
   "execution_count": 78,
   "id": "601d0f17-6236-4caf-b293-10a4c5ad940c",
   "metadata": {},
   "outputs": [
    {
     "name": "stdout",
     "output_type": "stream",
     "text": [
      "[5, 5, 7, 2, 6]\n"
     ]
    }
   ],
   "source": [
    "### list comphrehension with function call\n",
    "words=[\"hello\",\"world\",\"welcome\",\"to\", \"python\"]\n",
    "lengths=[len(word) for word in words]\n",
    "print(lengths)"
   ]
  },
  {
   "cell_type": "code",
   "execution_count": null,
   "id": "18ea9388-faaf-4fc5-82b6-a9a87924340c",
   "metadata": {},
   "outputs": [],
   "source": []
  },
  {
   "cell_type": "code",
   "execution_count": null,
   "id": "5b535e61-2951-4477-a391-f8c7479be663",
   "metadata": {},
   "outputs": [],
   "source": []
  },
  {
   "cell_type": "code",
   "execution_count": null,
   "id": "e5c9c7da-8a4f-47a0-9edf-78d371d5210c",
   "metadata": {},
   "outputs": [],
   "source": []
  },
  {
   "cell_type": "code",
   "execution_count": null,
   "id": "c2528eb6-22e4-4392-8a98-954fa1cf7711",
   "metadata": {},
   "outputs": [],
   "source": []
  },
  {
   "cell_type": "code",
   "execution_count": null,
   "id": "8cd448f9-1962-4c1f-a84a-bfe49c86a8c6",
   "metadata": {},
   "outputs": [],
   "source": []
  },
  {
   "cell_type": "code",
   "execution_count": null,
   "id": "6da2c71c-3656-4b9b-bc79-313b9d9f479c",
   "metadata": {},
   "outputs": [],
   "source": []
  },
  {
   "cell_type": "code",
   "execution_count": null,
   "id": "ab271c4a-1f22-4b14-8782-4d68b5482f43",
   "metadata": {},
   "outputs": [],
   "source": []
  },
  {
   "cell_type": "code",
   "execution_count": null,
   "id": "425186de-3c75-4c0f-8bb2-cb404f8e3bdd",
   "metadata": {},
   "outputs": [],
   "source": []
  },
  {
   "cell_type": "code",
   "execution_count": null,
   "id": "8a0d8338-c0d3-40a1-b95b-cccb0458f173",
   "metadata": {},
   "outputs": [],
   "source": []
  },
  {
   "cell_type": "code",
   "execution_count": null,
   "id": "ce60e022-ad9a-48fe-81e6-0da81ac001cb",
   "metadata": {},
   "outputs": [],
   "source": []
  },
  {
   "cell_type": "code",
   "execution_count": null,
   "id": "e68815d5-848b-4709-9bf1-57711e54342c",
   "metadata": {},
   "outputs": [],
   "source": []
  },
  {
   "cell_type": "code",
   "execution_count": null,
   "id": "968f475b-97c0-4a15-9243-04adec129025",
   "metadata": {},
   "outputs": [],
   "source": []
  },
  {
   "cell_type": "code",
   "execution_count": null,
   "id": "4c422a2e-0a24-4c20-8b23-b4dbb0b1f2fa",
   "metadata": {},
   "outputs": [],
   "source": []
  },
  {
   "cell_type": "code",
   "execution_count": null,
   "id": "2f413ce3-b682-4317-8f3a-ec809ca56894",
   "metadata": {},
   "outputs": [],
   "source": []
  },
  {
   "cell_type": "code",
   "execution_count": null,
   "id": "7adda089-aa5c-49b8-802e-1c3a7bcbc3fc",
   "metadata": {},
   "outputs": [],
   "source": []
  },
  {
   "cell_type": "code",
   "execution_count": null,
   "id": "21cadc9b-91b5-47d2-8f8c-26f91169c032",
   "metadata": {},
   "outputs": [],
   "source": []
  },
  {
   "cell_type": "code",
   "execution_count": null,
   "id": "bfe4b41d-1ea0-4fd5-b015-f1e5c7409e58",
   "metadata": {},
   "outputs": [],
   "source": []
  },
  {
   "cell_type": "code",
   "execution_count": null,
   "id": "af655735-7c58-4a67-838d-e3a94f0b7ac3",
   "metadata": {},
   "outputs": [],
   "source": []
  },
  {
   "cell_type": "code",
   "execution_count": null,
   "id": "62d93c17-2b3c-4fb6-83fe-2e3da14026f8",
   "metadata": {},
   "outputs": [],
   "source": []
  },
  {
   "cell_type": "code",
   "execution_count": null,
   "id": "8f17b3e4-39f0-4edb-b322-d42074435c57",
   "metadata": {},
   "outputs": [],
   "source": []
  },
  {
   "cell_type": "code",
   "execution_count": null,
   "id": "878cc16a-bdf8-4652-abc0-f0210f2c4c7a",
   "metadata": {},
   "outputs": [],
   "source": []
  },
  {
   "cell_type": "code",
   "execution_count": null,
   "id": "b1f53084-57f8-4368-8b78-d8269e9d1bfa",
   "metadata": {},
   "outputs": [],
   "source": []
  },
  {
   "cell_type": "code",
   "execution_count": null,
   "id": "1050c72f-ef11-4132-a159-bb88267cf6e3",
   "metadata": {},
   "outputs": [],
   "source": []
  },
  {
   "cell_type": "code",
   "execution_count": null,
   "id": "38320da4-6b9a-48e7-a464-0fb97933a2ea",
   "metadata": {},
   "outputs": [],
   "source": []
  },
  {
   "cell_type": "code",
   "execution_count": 55,
   "id": "93b79f37-7acc-4cb8-8e25-20579849fbf9",
   "metadata": {},
   "outputs": [],
   "source": [
    "x=my_list[0]\n",
    "y=my_list[2]\n",
    "z=my_list[-1:3]\n",
    "a=my_list[1:2]\n",
    "b=my_list[:3]\n",
    "c=my_list[4:]\n",
    "u=my_list[-4:-2]\n",
    "v=my_list[-1]\n"
   ]
  },
  {
   "cell_type": "code",
   "execution_count": 56,
   "id": "c5fadc5c-0edc-4fa0-88d2-7092f234aba8",
   "metadata": {},
   "outputs": [
    {
     "name": "stdout",
     "output_type": "stream",
     "text": [
      "x is  1\n",
      "y is  shylu,my number is 6\n",
      "z is  []\n",
      "a is  [34.45]\n",
      "b is  [1, 34.45, 'shylu,my number is 6']\n",
      "c is  [True, 1, 2, 3, 12, 34, 5, 6, 7]\n",
      "u is  [34, 5]\n",
      "v is  7\n"
     ]
    }
   ],
   "source": [
    "print('x is ',x)\n",
    "print('y is ',y)\n",
    "print('z is ',z)\n",
    "print('a is ',a)\n",
    "print('b is ',b)\n",
    "print('c is ',c)\n",
    "print('u is ',u)\n",
    "print('v is ',v)"
   ]
  },
  {
   "cell_type": "code",
   "execution_count": 58,
   "id": "591dedf3-3fdd-4e6f-bbd0-d036602dc9ff",
   "metadata": {},
   "outputs": [],
   "source": [
    "my_list.append('lists are appendable')"
   ]
  },
  {
   "cell_type": "code",
   "execution_count": 59,
   "id": "686bcb26-5bf1-435a-8f4a-0daa82062a92",
   "metadata": {},
   "outputs": [
    {
     "name": "stdout",
     "output_type": "stream",
     "text": [
      "[1, 34.45, 'shylu,my number is 6', 23, True, 1, 2, 3, 12, 34, 5, 6, 7, 'lists are appendable', 'lists are appendable']\n"
     ]
    }
   ],
   "source": [
    "print(my_list)"
   ]
  },
  {
   "cell_type": "markdown",
   "id": "a8b82e79-bc7c-4763-a708-0ed2da31a6da",
   "metadata": {},
   "source": [
    "## appending lists\n"
   ]
  },
  {
   "cell_type": "code",
   "execution_count": 67,
   "id": "83a7a21e-7375-4a3e-a49e-a4e0b3a4f16f",
   "metadata": {},
   "outputs": [
    {
     "name": "stdout",
     "output_type": "stream",
     "text": [
      "[1, 34.45, 'shylu,my number is 6', 23, True, 1, 2, 3, 12, 34, 5, 6, 7, 'lists are appendable', 'lists are appendable', 1, 2, 3.5, 45, 'shylu', 'abc', 'xyz']\n"
     ]
    }
   ],
   "source": [
    "my_list2=[1,2,3.5,45,'shylu','abc','xyz']\n",
    "result=my_list+my_list2\n",
    "print(result)"
   ]
  },
  {
   "cell_type": "code",
   "execution_count": null,
   "id": "1322ae14-e8cc-4498-b72e-c72bd9dbce10",
   "metadata": {},
   "outputs": [],
   "source": []
  },
  {
   "cell_type": "markdown",
   "id": "4a027739-7a91-402f-bf7b-412b56bc781f",
   "metadata": {},
   "source": []
  },
  {
   "cell_type": "markdown",
   "id": "9914678e-3aa4-4878-86ed-c9efdf21f601",
   "metadata": {},
   "source": [
    "## Tuples\n",
    "## Tuples are same as lists\n",
    "## tuples are not appended(we cannot append elements in the tuple but in list possible) \n"
   ]
  },
  {
   "cell_type": "code",
   "execution_count": 60,
   "id": "68e05cb8-e340-40cf-a3cb-0063e05cf9a5",
   "metadata": {},
   "outputs": [
    {
     "name": "stdout",
     "output_type": "stream",
     "text": [
      "[1, 34.45, 'shylu,my number is 6', 23, True, 1, 2, 3, 12, 34, 5, 6, 7]\n"
     ]
    }
   ],
   "source": [
    "my_tuple=[1,34.45,\"shylu,my number is {}\".format(6),23,True,1,2,3,12,34,5,6,7]\n",
    "print(my_tuple)"
   ]
  },
  {
   "cell_type": "code",
   "execution_count": 65,
   "id": "db0a77b9-8e8a-46d8-b571-19fb179d3e24",
   "metadata": {},
   "outputs": [
    {
     "name": "stdout",
     "output_type": "stream",
     "text": [
      "this is my tuple is \n",
      " [1, 34.45, 'shylu,my number is 6', 23, True, 1, 2, 3, 12, 34, 5, 6, 7]\n"
     ]
    }
   ],
   "source": [
    "print(\"this is my tuple is \\n {}\".format(my_tuple))"
   ]
  },
  {
   "cell_type": "code",
   "execution_count": null,
   "id": "feb99bd3-dd94-4b48-8ca0-43c2195f28bb",
   "metadata": {},
   "outputs": [],
   "source": []
  },
  {
   "cell_type": "code",
   "execution_count": 1,
   "id": "e8f4e998-af79-4fea-a57b-796add29f46a",
   "metadata": {},
   "outputs": [
    {
     "name": "stdout",
     "output_type": "stream",
     "text": [
      "()\n",
      "<class 'tuple'>\n"
     ]
    }
   ],
   "source": [
    "empty_tuple=()\n",
    "print(empty_tuple)\n",
    "print(type(empty_tuple))"
   ]
  },
  {
   "cell_type": "code",
   "execution_count": 2,
   "id": "210fc4c4-8691-47e0-a63f-a2f966ed730f",
   "metadata": {},
   "outputs": [
    {
     "name": "stdout",
     "output_type": "stream",
     "text": [
      "(1, 2, 3, 4)\n"
     ]
    }
   ],
   "source": [
    "my_tuple=(1,2,3,4,)\n",
    "print(my_tuple)\n"
   ]
  },
  {
   "cell_type": "code",
   "execution_count": 3,
   "id": "78b402f1-849a-4c6d-8ce1-1c2551933e5b",
   "metadata": {},
   "outputs": [
    {
     "name": "stdout",
     "output_type": "stream",
     "text": [
      "(1, 2.3, 'shylu', 'hello')\n"
     ]
    }
   ],
   "source": [
    "mixed_tuple=(1,2.3,\"shylu\",\"hello\")\n",
    "print(mixed_tuple)"
   ]
  },
  {
   "cell_type": "code",
   "execution_count": 4,
   "id": "aae21ff4-5393-4d75-abae-b51924ca5261",
   "metadata": {},
   "outputs": [
    {
     "data": {
      "text/plain": [
       "('hello', 'shylu', 2.3, 1)"
      ]
     },
     "execution_count": 4,
     "metadata": {},
     "output_type": "execute_result"
    }
   ],
   "source": [
    "## Accessing tuple elements\n",
    "mixed_tuple[::-1]\n"
   ]
  },
  {
   "cell_type": "code",
   "execution_count": 5,
   "id": "238e49b0-5df2-4a73-8a2f-0f7e76ad4392",
   "metadata": {},
   "outputs": [
    {
     "name": "stdout",
     "output_type": "stream",
     "text": [
      "(1, 2, 3, 4, 1, 2.3, 'shylu', 'hello')\n"
     ]
    }
   ],
   "source": [
    "## tuple operation\n",
    "concat_tuple=my_tuple+mixed_tuple\n",
    "print(concat_tuple)"
   ]
  },
  {
   "cell_type": "code",
   "execution_count": 6,
   "id": "644d6e04-6a3e-4f76-8d61-50600aa55d94",
   "metadata": {},
   "outputs": [
    {
     "data": {
      "text/plain": [
       "(1,\n",
       " 2.3,\n",
       " 'shylu',\n",
       " 'hello',\n",
       " 1,\n",
       " 2.3,\n",
       " 'shylu',\n",
       " 'hello',\n",
       " 1,\n",
       " 2.3,\n",
       " 'shylu',\n",
       " 'hello',\n",
       " 1,\n",
       " 2.3,\n",
       " 'shylu',\n",
       " 'hello')"
      ]
     },
     "execution_count": 6,
     "metadata": {},
     "output_type": "execute_result"
    }
   ],
   "source": [
    "mixed_tuple *4"
   ]
  },
  {
   "cell_type": "markdown",
   "id": "7870d98c-b5a3-4be3-8519-9fbbdfb363fc",
   "metadata": {},
   "source": [
    "## Immutable nature of Tuple\n"
   ]
  },
  {
   "cell_type": "code",
   "execution_count": 8,
   "id": "0b86a8c2-af70-4b83-a17b-ea9a923b7ab2",
   "metadata": {},
   "outputs": [
    {
     "ename": "TypeError",
     "evalue": "'tuple' object does not support item assignment",
     "output_type": "error",
     "traceback": [
      "\u001b[1;31m---------------------------------------------------------------------------\u001b[0m",
      "\u001b[1;31mTypeError\u001b[0m                                 Traceback (most recent call last)",
      "Cell \u001b[1;32mIn[8], line 1\u001b[0m\n\u001b[1;32m----> 1\u001b[0m my_tuple[\u001b[38;5;241m2\u001b[39m]\u001b[38;5;241m=\u001b[39m\u001b[38;5;124m\"\u001b[39m\u001b[38;5;124mabc\u001b[39m\u001b[38;5;124m\"\u001b[39m\n\u001b[0;32m      2\u001b[0m \u001b[38;5;28mprint\u001b[39m(my_tuple)\n",
      "\u001b[1;31mTypeError\u001b[0m: 'tuple' object does not support item assignment"
     ]
    }
   ],
   "source": [
    "my_tuple[2]=\"abc\"\n",
    "print(my_tuple)"
   ]
  },
  {
   "cell_type": "markdown",
   "id": "35708499-632a-4848-8b40-588712c22125",
   "metadata": {},
   "source": [
    "## tuple methods"
   ]
  },
  {
   "cell_type": "code",
   "execution_count": 11,
   "id": "0a4af173-12ec-445d-88b9-af097932aded",
   "metadata": {},
   "outputs": [
    {
     "name": "stdout",
     "output_type": "stream",
     "text": [
      "1\n",
      "3\n"
     ]
    }
   ],
   "source": [
    "print(my_tuple.count(2))\n",
    "print(my_tuple.index(4))"
   ]
  },
  {
   "cell_type": "markdown",
   "id": "9f84f8ee-88fd-42e9-bfb4-c0d063278b41",
   "metadata": {},
   "source": [
    "## packing and unpacking of tuples"
   ]
  },
  {
   "cell_type": "code",
   "execution_count": 12,
   "id": "adf2d203-8742-4c62-a188-7c9ecae6591a",
   "metadata": {},
   "outputs": [
    {
     "name": "stdout",
     "output_type": "stream",
     "text": [
      "(1, 23, 'hello')\n"
     ]
    }
   ],
   "source": [
    "#packing tuple\n",
    "packed_tuple=1,23,\"hello\"\n",
    "print(packed_tuple)"
   ]
  },
  {
   "cell_type": "code",
   "execution_count": 14,
   "id": "808aeb8f-61b2-4211-8372-e081259b2f87",
   "metadata": {},
   "outputs": [
    {
     "name": "stdout",
     "output_type": "stream",
     "text": [
      "1\n",
      "23\n",
      "hello\n"
     ]
    }
   ],
   "source": [
    "a,b,c=packed_tuple\n",
    "print(a)\n",
    "print(b)\n",
    "print(c)"
   ]
  },
  {
   "cell_type": "code",
   "execution_count": 15,
   "id": "f991e867-4617-4961-8011-8e434d55f8f2",
   "metadata": {},
   "outputs": [
    {
     "name": "stdout",
     "output_type": "stream",
     "text": [
      "1\n",
      "[2, 3, 4, 12, 21, 34, 6, 7]\n",
      "8\n"
     ]
    }
   ],
   "source": [
    "## unpacking with **\n",
    "num=(1,2,3,4,12,21,34,6,7,8)\n",
    "first,* middle,last=num\n",
    "print(first)\n",
    "print(middle)\n",
    "print(last)"
   ]
  },
  {
   "cell_type": "markdown",
   "id": "6d72d9fa-3959-44dc-8c29-1127fe7bac1a",
   "metadata": {},
   "source": [
    "## Nested tuples\n",
    "## Nested Lists"
   ]
  },
  {
   "cell_type": "code",
   "execution_count": 20,
   "id": "fe80cc3c-cf14-4774-8c8d-a832556569d2",
   "metadata": {},
   "outputs": [
    {
     "name": "stdout",
     "output_type": "stream",
     "text": [
      "[1, 2, 3, 4]\n",
      "3\n",
      "['a', 2, 3, 9]\n"
     ]
    }
   ],
   "source": [
    "lst=[[1,2,3,4],['hello','abc','shylu'],['a',2,3,9]]\n",
    "print(lst[0])\n",
    "print(lst[0][2])\n",
    "print(lst[2])"
   ]
  },
  {
   "cell_type": "code",
   "execution_count": 21,
   "id": "3ed4e081-6af2-4bb1-ac5e-a914aff29a40",
   "metadata": {},
   "outputs": [
    {
     "name": "stdout",
     "output_type": "stream",
     "text": [
      "[[1, 2, 3, 4], ['hello', 'abc', 'shylu'], ('a', 2, 3, 9)]\n"
     ]
    }
   ],
   "source": [
    "lst=[[1,2,3,4],['hello','abc','shylu'],('a',2,3,9)]\n",
    "print(lst)"
   ]
  },
  {
   "cell_type": "code",
   "execution_count": 25,
   "id": "5121cc40-f79e-426d-8d26-b3f9d1929742",
   "metadata": {},
   "outputs": [
    {
     "name": "stdout",
     "output_type": "stream",
     "text": [
      "34\n",
      "3\n"
     ]
    }
   ],
   "source": [
    "nest_tuple=((1,2,3,4),(\"a\",\"bc\",\"world\"),('anh',12,34,23))\n",
    "print(nest_tuple[2][2])\n",
    "print(nest_tuple[0][2])"
   ]
  },
  {
   "cell_type": "code",
   "execution_count": 31,
   "id": "174e28d2-0509-42e3-af72-7a7b6f410f35",
   "metadata": {},
   "outputs": [
    {
     "name": "stdout",
     "output_type": "stream",
     "text": [
      "1 ,2 ,3 ,4 ,\n",
      "a ,bc ,world ,\n",
      "anh ,12 ,34 ,23 ,\n"
     ]
    }
   ],
   "source": [
    "##iterating over nested tuples\n",
    "for sub_tuple in nest_tuple:\n",
    "    for i in sub_tuple:\n",
    "        print(i,end=' ,')\n",
    "    print()   \n"
   ]
  },
  {
   "cell_type": "code",
   "execution_count": null,
   "id": "87d000b1-adce-41a7-a28e-88c12913bf94",
   "metadata": {},
   "outputs": [],
   "source": []
  },
  {
   "cell_type": "code",
   "execution_count": null,
   "id": "cbe1ab7c-2a7c-4f0d-9123-1cf997f79820",
   "metadata": {},
   "outputs": [],
   "source": []
  },
  {
   "cell_type": "code",
   "execution_count": null,
   "id": "22419a34-067c-44a7-bad0-6c72a08aea83",
   "metadata": {},
   "outputs": [],
   "source": []
  },
  {
   "cell_type": "code",
   "execution_count": null,
   "id": "6b67716f-47c6-420d-80ac-d1a1931fb34e",
   "metadata": {},
   "outputs": [],
   "source": []
  },
  {
   "cell_type": "code",
   "execution_count": null,
   "id": "ea0cb253-402b-4ace-bafb-81c76976d856",
   "metadata": {},
   "outputs": [],
   "source": []
  },
  {
   "cell_type": "code",
   "execution_count": null,
   "id": "4194e1aa-48e8-4e06-8179-a5e5cd6af6cd",
   "metadata": {},
   "outputs": [],
   "source": []
  },
  {
   "cell_type": "code",
   "execution_count": null,
   "id": "4532e9f9-93c7-4376-b7e0-77bbe391649c",
   "metadata": {},
   "outputs": [],
   "source": []
  },
  {
   "cell_type": "code",
   "execution_count": null,
   "id": "e42ee180-11b3-48ec-988a-e958534df21a",
   "metadata": {},
   "outputs": [],
   "source": []
  },
  {
   "cell_type": "code",
   "execution_count": null,
   "id": "03d68619-12e9-466c-87a8-ed3c21fbe444",
   "metadata": {},
   "outputs": [],
   "source": []
  },
  {
   "cell_type": "code",
   "execution_count": null,
   "id": "0a0dff4d-68d1-4f45-bd72-779cd807c510",
   "metadata": {},
   "outputs": [],
   "source": []
  },
  {
   "cell_type": "code",
   "execution_count": null,
   "id": "ee2f181f-2dbf-47f2-a5d7-1b78a382430a",
   "metadata": {},
   "outputs": [],
   "source": []
  },
  {
   "cell_type": "code",
   "execution_count": null,
   "id": "59ee9496-e44f-4ae2-b8c1-8b61049840e3",
   "metadata": {},
   "outputs": [],
   "source": []
  },
  {
   "cell_type": "code",
   "execution_count": null,
   "id": "e99e649a-a18d-4e4a-b149-0bf709567c29",
   "metadata": {},
   "outputs": [],
   "source": []
  },
  {
   "cell_type": "markdown",
   "id": "1c579aad-120c-476f-9473-8d4ed0d75f47",
   "metadata": {},
   "source": [
    "## Appending Tuples\n"
   ]
  },
  {
   "cell_type": "code",
   "execution_count": 68,
   "id": "0fa015c1-d6d4-4fd2-ac38-601291510599",
   "metadata": {},
   "outputs": [
    {
     "name": "stdout",
     "output_type": "stream",
     "text": [
      "[1, 34.45, 'shylu,my number is 6', 23, True, 1, 2, 3, 12, 34, 5, 6, 7, 'lists are appendable', 'lists are appendable', 1, 2, 3.5, 45, 'shylu', 'abc', 'xyz']\n"
     ]
    }
   ],
   "source": [
    "my_tuple1=['a','b','c','xyz','abc']\n",
    "result1=my_tuple1+my_tuple\n",
    "print(result)"
   ]
  },
  {
   "cell_type": "markdown",
   "id": "35e27b13-6bb2-4c06-b086-25545c4eb101",
   "metadata": {},
   "source": [
    "### Dictionaries\n",
    "dictionary={'key1':,'key2':}"
   ]
  },
  {
   "cell_type": "code",
   "execution_count": 69,
   "id": "a126887a-2982-4ccf-8b96-368fe3aca35e",
   "metadata": {},
   "outputs": [
    {
     "data": {
      "text/plain": [
       "{'key1': [1,\n",
       "  34.45,\n",
       "  'shylu,my number is 6',\n",
       "  23,\n",
       "  True,\n",
       "  1,\n",
       "  2,\n",
       "  3,\n",
       "  12,\n",
       "  34,\n",
       "  5,\n",
       "  6,\n",
       "  7,\n",
       "  'lists are appendable',\n",
       "  'lists are appendable'],\n",
       " 'key2': [1,\n",
       "  34.45,\n",
       "  'shylu,my number is 6',\n",
       "  23,\n",
       "  True,\n",
       "  1,\n",
       "  2,\n",
       "  3,\n",
       "  12,\n",
       "  34,\n",
       "  5,\n",
       "  6,\n",
       "  7],\n",
       " 'key3': float}"
      ]
     },
     "execution_count": 69,
     "metadata": {},
     "output_type": "execute_result"
    }
   ],
   "source": [
    "my_dictionary={'key1':my_list,'key2':my_tuple,'key3':type(25.5)}\n",
    "my_dictionary"
   ]
  },
  {
   "cell_type": "code",
   "execution_count": 70,
   "id": "3b6db7e8-752f-495b-84cc-51d8d034f248",
   "metadata": {},
   "outputs": [
    {
     "data": {
      "text/plain": [
       "{'key1': 'shylu', 'key2': 1985, 'key3': float}"
      ]
     },
     "execution_count": 70,
     "metadata": {},
     "output_type": "execute_result"
    }
   ],
   "source": [
    "my_dictionary1={'key1':'shylu','key2':1985,'key3':type(25.5)}\n",
    "my_dictionary1"
   ]
  },
  {
   "cell_type": "code",
   "execution_count": null,
   "id": "6d590998-34f0-4548-9f0b-10bc45abb640",
   "metadata": {},
   "outputs": [],
   "source": []
  },
  {
   "cell_type": "markdown",
   "id": "fe6da6c3-fbd3-4286-9b2c-d9a8b103688a",
   "metadata": {},
   "source": [
    "## Buit in key functions\n"
   ]
  },
  {
   "cell_type": "code",
   "execution_count": 83,
   "id": "c3e9d259-d630-45f8-a35c-28660bb9812e",
   "metadata": {},
   "outputs": [
    {
     "name": "stdout",
     "output_type": "stream",
     "text": [
      "my_dictionary_keys are: \n",
      "dict_keys(['key1', 'key2', 'key3'])\n"
     ]
    }
   ],
   "source": [
    "my_dictionary_keys=my_dictionary1.keys()\n",
    "print(\"my_dictionary_keys are: \\n{}\".format(my_dictionary_keys))"
   ]
  },
  {
   "cell_type": "markdown",
   "id": "4b6c03e7-9437-4a40-b756-16db7f245db2",
   "metadata": {},
   "source": [
    "## list in key functions"
   ]
  },
  {
   "cell_type": "code",
   "execution_count": 85,
   "id": "87a14553-5814-4fa9-b6d2-520b47918fc0",
   "metadata": {},
   "outputs": [
    {
     "name": "stdout",
     "output_type": "stream",
     "text": [
      "my_dictionary_keys are: \n",
      "['key1', 'key2', 'key3']\n"
     ]
    }
   ],
   "source": [
    "my_dictionary_keys=list(my_dictionary1)\n",
    "print(\"my_dictionary_keys are: \\n{}\".format(my_dictionary_keys))"
   ]
  },
  {
   "cell_type": "markdown",
   "id": "769f0863-1507-4519-accd-09e9a85df6e5",
   "metadata": {},
   "source": [
    "## Loops\n",
    "## Loop over element of a list"
   ]
  },
  {
   "cell_type": "code",
   "execution_count": 3,
   "id": "328c39a6-cd04-4ca2-90d9-0ed17c5dc59e",
   "metadata": {},
   "outputs": [
    {
     "name": "stdout",
     "output_type": "stream",
     "text": [
      "[1]\n",
      "[1, 4]\n",
      "[1, 4, 16]\n",
      "[1, 4, 16, 36]\n",
      "[1, 4, 16, 36, 81]\n",
      "[1, 4, 16, 36, 81, 25]\n",
      "[1, 4, 16, 36, 81, 25, 144]\n"
     ]
    }
   ],
   "source": [
    "my_list01=[1,2,4,6,9,5,12]\n",
    "my_list2=[]\n",
    "for i in my_list01:\n",
    "    my_list2.append(i**2)\n",
    "    print(my_list2)\n",
    "    "
   ]
  },
  {
   "cell_type": "code",
   "execution_count": 9,
   "id": "aa120764-e319-4a20-954c-e5d02cfff2c5",
   "metadata": {},
   "outputs": [
    {
     "name": "stdout",
     "output_type": "stream",
     "text": [
      "[5]\n",
      "[5, 10]\n",
      "[5, 10, 20]\n",
      "[5, 10, 20, 30]\n",
      "[5, 10, 20, 30, 45]\n",
      "[5, 10, 20, 30, 45, 25]\n",
      "[5, 10, 20, 30, 45, 25, 65]\n",
      "[5, 10, 20, 30, 45, 25, 65, 35]\n",
      "[5, 10, 20, 30, 45, 25, 65, 35, 65]\n",
      "[5, 10, 20, 30, 45, 25, 65, 35, 65, 70]\n",
      "[5, 10, 20, 30, 45, 25, 65, 35, 65, 70, 75]\n",
      "[5, 10, 20, 30, 45, 25, 65, 35, 65, 70, 75, 90]\n"
     ]
    }
   ],
   "source": [
    "my_list01=[1,2,4,6,9,5,13,7,13,14,15,18]\n",
    "my_list2=[]\n",
    "for i in my_list01:\n",
    "    my_list2.append(i*5)\n",
    "    print(my_list2)\n",
    "    "
   ]
  },
  {
   "cell_type": "markdown",
   "id": "f5e10a7b-6d2c-4878-9246-520421aabb46",
   "metadata": {},
   "source": [
    "## for loop"
   ]
  },
  {
   "cell_type": "code",
   "execution_count": 53,
   "id": "5819f357-c194-476c-9c67-575462ba0a8e",
   "metadata": {},
   "outputs": [
    {
     "name": "stdout",
     "output_type": "stream",
     "text": [
      "10\n",
      "9\n",
      "8\n",
      "7\n",
      "6\n",
      "5\n"
     ]
    }
   ],
   "source": [
    "for i in range(10,4,-1):\n",
    "    print(i)\n"
   ]
  },
  {
   "cell_type": "code",
   "execution_count": 50,
   "id": "b6f3c78a-383a-414e-95ba-7a3b37ad3b21",
   "metadata": {},
   "outputs": [
    {
     "name": "stdout",
     "output_type": "stream",
     "text": [
      "1\n",
      "3\n",
      "5\n",
      "7\n",
      "9\n",
      "11\n",
      "13\n",
      "15\n",
      "17\n",
      "19\n"
     ]
    }
   ],
   "source": [
    "for i in range(1,20,2):\n",
    "\n",
    "    print(i)"
   ]
  },
  {
   "cell_type": "code",
   "execution_count": 33,
   "id": "1869a11d-dddc-45f2-9522-92fa8bf9b51d",
   "metadata": {},
   "outputs": [
    {
     "name": "stdout",
     "output_type": "stream",
     "text": [
      " 1  is odd number\n",
      " 2  is even number\n",
      " 3  is odd number\n",
      " 4  is even number\n",
      " 5  is odd number\n",
      " 6  is even number\n",
      " 7  is odd number\n",
      " 8  is even number\n",
      " 9  is odd number\n"
     ]
    }
   ],
   "source": [
    "for i in range(1,10):\n",
    "   if i%2==0:\n",
    "    print(\" {}  is even number\".format(i))\n",
    "   elif i%2!=0:\n",
    "    print(\" {}  is odd number\".format(i))\n",
    "   else:\n",
    "    print(\" no comment of above number{}\".format(i))"
   ]
  },
  {
   "cell_type": "markdown",
   "id": "72f07292-d859-40df-82bd-caa660ad60a8",
   "metadata": {},
   "source": [
    "## Functions"
   ]
  },
  {
   "cell_type": "code",
   "execution_count": 38,
   "id": "df450bfd-c501-42c2-a81d-da86e7dc1398",
   "metadata": {},
   "outputs": [],
   "source": [
    "def fun_test(i):\n",
    " for i in range(1,10):\n",
    "   if i%2==0:\n",
    "    print(\" {}  is even number\".format(i))\n",
    "   elif i%2!=0:\n",
    "    print(\" {}  is odd number\".format(i))\n",
    "   else:\n",
    "    print(\" no comment of above number{}\".format(i))"
   ]
  },
  {
   "cell_type": "code",
   "execution_count": 40,
   "id": "20c8b07c-8048-4407-bef0-f656605ae0a3",
   "metadata": {},
   "outputs": [
    {
     "name": "stdout",
     "output_type": "stream",
     "text": [
      " 1  is odd number\n",
      " 2  is even number\n",
      " 3  is odd number\n",
      " 4  is even number\n",
      " 5  is odd number\n",
      " 6  is even number\n",
      " 7  is odd number\n",
      " 8  is even number\n",
      " 9  is odd number\n"
     ]
    }
   ],
   "source": [
    "fun_test(i)\n"
   ]
  },
  {
   "cell_type": "code",
   "execution_count": 70,
   "id": "d7e57697-56ba-4a31-9a84-449a4d3e8ee5",
   "metadata": {},
   "outputs": [],
   "source": [
    "def fun_test2(start_val=0,stop_val=20,step_val=1):\n",
    "    for i in range(start_val,stop_val,step_val):\n",
    "        if i%5==0:\n",
    "            print(\"{} is divisible by 5\".format(i))\n",
    "        elif i%2==0:\n",
    "            print(\"{} is divisible by 2 and even number\".format(i))\n",
    "        elif i%3==0:\n",
    "            print(\"{} is divisible by 3 and even number\".format(i))   \n",
    "        else:\n",
    "            print(\" {} is no comment of number\".format(i))\n"
   ]
  },
  {
   "cell_type": "code",
   "execution_count": 71,
   "id": "f142dd71-ca31-49e1-b6c2-0dc9f60f45d8",
   "metadata": {},
   "outputs": [
    {
     "name": "stdout",
     "output_type": "stream",
     "text": [
      "2 is divisible by 2 and even number\n",
      "3 is divisible by 3 and even number\n",
      "4 is divisible by 2 and even number\n",
      "5 is divisible by 5\n",
      "6 is divisible by 2 and even number\n",
      " 7 is no comment of number\n",
      "8 is divisible by 2 and even number\n",
      "9 is divisible by 3 and even number\n",
      "10 is divisible by 5\n",
      " 11 is no comment of number\n",
      "12 is divisible by 2 and even number\n",
      " 13 is no comment of number\n",
      "14 is divisible by 2 and even number\n",
      "15 is divisible by 5\n",
      "16 is divisible by 2 and even number\n",
      " 17 is no comment of number\n",
      "18 is divisible by 2 and even number\n",
      " 19 is no comment of number\n"
     ]
    }
   ],
   "source": [
    "fun_test2(start_val=2,stop_val=20)"
   ]
  },
  {
   "cell_type": "markdown",
   "id": "1d97b263-dcec-44d7-b4c9-3a8156e7371c",
   "metadata": {},
   "source": [
    "## Functions examples with o\\p to be returned"
   ]
  },
  {
   "cell_type": "code",
   "execution_count": 78,
   "id": "f265a677-599b-40ea-bfda-b85a49b4b591",
   "metadata": {},
   "outputs": [],
   "source": [
    "def fun_test3(x,y):\n",
    "    if x%y==0:\n",
    "      ## print(\"{} is even number\".format(x))\n",
    "        output1=x*y\n",
    "        output2=x/y\n",
    "    else:\n",
    "        output1='N/A'\n",
    "        output2='N/A'\n",
    "    return output1,output2\n",
    "        "
   ]
  },
  {
   "cell_type": "code",
   "execution_count": 87,
   "id": "b9f5cba8-20ea-4bb7-b8d4-aa251130f939",
   "metadata": {},
   "outputs": [
    {
     "name": "stdout",
     "output_type": "stream",
     "text": [
      "N/A  \n",
      "N/A  \n"
     ]
    }
   ],
   "source": [
    "output1,output2=fun_test3(23,5)\n",
    "print(\"{}  \".format(output1))\n",
    "print(\"{}  \".format(output2))"
   ]
  },
  {
   "cell_type": "code",
   "execution_count": null,
   "id": "22bed87c-7eff-40ec-9e35-34bfe0aa9a77",
   "metadata": {},
   "outputs": [],
   "source": []
  },
  {
   "cell_type": "code",
   "execution_count": null,
   "id": "b33eb822-ccdb-4fcb-bb51-6ef1f699bceb",
   "metadata": {},
   "outputs": [],
   "source": []
  },
  {
   "cell_type": "code",
   "execution_count": null,
   "id": "9471d2a5-50e5-4593-94c7-e0cc1969b6fd",
   "metadata": {},
   "outputs": [],
   "source": []
  },
  {
   "cell_type": "code",
   "execution_count": null,
   "id": "7aa2f08d-2b83-4a80-bdd8-1833ebf28b3c",
   "metadata": {},
   "outputs": [],
   "source": []
  },
  {
   "cell_type": "code",
   "execution_count": null,
   "id": "fbd1b1cf-70cb-4b80-9315-b0b0dfca7ed0",
   "metadata": {},
   "outputs": [],
   "source": []
  },
  {
   "cell_type": "markdown",
   "id": "b3becd63-41ce-4339-8541-368df9d7a320",
   "metadata": {},
   "source": [
    "### "
   ]
  }
 ],
 "metadata": {
  "kernelspec": {
   "display_name": "Python [conda env:anaconda3]",
   "language": "python",
   "name": "conda-env-anaconda3-py"
  },
  "language_info": {
   "codemirror_mode": {
    "name": "ipython",
    "version": 3
   },
   "file_extension": ".py",
   "mimetype": "text/x-python",
   "name": "python",
   "nbconvert_exporter": "python",
   "pygments_lexer": "ipython3",
   "version": "3.12.7"
  }
 },
 "nbformat": 4,
 "nbformat_minor": 5
}
